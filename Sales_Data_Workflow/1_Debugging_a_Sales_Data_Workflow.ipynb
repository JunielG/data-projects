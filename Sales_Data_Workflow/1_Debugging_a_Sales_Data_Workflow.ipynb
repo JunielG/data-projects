{
 "cells": [
  {
   "cell_type": "markdown",
   "id": "fcdf3254-2906-408e-b06e-4b198baee36e",
   "metadata": {},
   "source": [
    "## Debugging a Sales Data Workflow\n",
    "\n",
    "Sometimes, things that once worked perfectly suddenly hit a snag. Practice your knowledge of DataFrames to find the problem and fix it!\n",
    "\n",
    "#### Project Description\n",
    "Programming is not only about writing code from scratch but also about reading and improving an already written code.\n",
    "\n",
    "In this project, you will work to fix the start of a sales workflow. You will need to read an already-written code, understand where the problem is, and come up with a solution so things will run smoothly again."
   ]
  },
  {
   "cell_type": "code",
   "execution_count": 1,
   "id": "0bdbb7a3-bdd7-482e-bc83-2389580d6a1a",
   "metadata": {},
   "outputs": [],
   "source": [
    "import pandas as pd\n",
    "import matplotlib.pyplot as plt"
   ]
  },
  {
   "cell_type": "code",
   "execution_count": 1,
   "id": "59698ad5-d47e-4f7a-8817-7368bdf52886",
   "metadata": {},
   "outputs": [
    {
     "name": "stdout",
     "output_type": "stream",
     "text": [
      "Data column mismatch! Expected 18, but got 17.\n",
      "\n",
      "Columns found: ['Invoice ID', 'Branch', 'City', 'Customer type', 'Gender', 'Product line', 'Unit price', 'Quantity', 'Tax', 'Total', 'Date', 'Time', 'Payment', 'cogs', 'gross margin percentage', 'gross income', 'Rating']\n",
      "\n",
      "Data integrity check failed! 0 rows failed Condition_1, 346 rows failed Condition_2.\n"
     ]
    }
   ],
   "source": [
    "import pandas as pd\n",
    "\n",
    "def load_and_check():\n",
    "    # Step 1: Load the data and check if it has the expected shape\n",
    "    data = pd.read_csv('sales.csv')  \n",
    "    \n",
    "    expected_columns = 18\n",
    "    actual_columns = data.shape[1]\n",
    "    if actual_columns != expected_columns:\n",
    "        print(f\"Data column mismatch! Expected {expected_columns}, but got {actual_columns}.\\n\")\n",
    "        print(f\"Columns found: {list(data.columns)}\\n\")\n",
    "    else:\n",
    "        print(\"Data loaded successfully.\")\n",
    "\n",
    "    # Step 2: Calculate statistical values and merge with the original data\n",
    "    grouped_data = data.groupby(['Date'])['Total'].agg(['mean', 'std'])\n",
    "    grouped_data['threshold'] = 3 * grouped_data['std']\n",
    "    grouped_data['max'] = grouped_data['mean'] + grouped_data.threshold\n",
    "    grouped_data['min'] = grouped_data[['mean', 'threshold']].apply(lambda row: max(0, row['mean'] - row['threshold']), axis=1)\n",
    "    data = pd.merge(data, grouped_data, on='Date', how='left')\n",
    "\n",
    "    # Condition_1 checks if 'Total' is within the acceptable range (min to max) for each date\n",
    "    data['Condition_1'] = (data['Total'] >= data['min']) & (data['Total'] <= data['max'])\n",
    "    data.fillna({'Condition_1':False}, inplace=True)  \n",
    "\n",
    "    # Condition_2 checks if the 'Tax' column is properly calculated as 5% of (Quantity * Unit price)\n",
    "    data['Condition_2'] = round(data['Quantity'] * data['Unit price'] * 0.05, 1) == round(data['Tax'], 1)\n",
    "        \n",
    "    # Step 3: Check if all rows pass both Condition_1 and Condition_2\n",
    "    # Success indicates data integrity; failure suggests potential issues.\n",
    "    failed_condition_1 = data[~data['Condition_1']]\n",
    "    failed_condition_2 = data[~data['Condition_2']]\n",
    "\n",
    "    if failed_condition_1.shape[0] > 0 or failed_condition_2.shape[0] > 0:\n",
    "        print(f\"Data integrity check failed! {failed_condition_1.shape[0]} rows failed Condition_1, \"\n",
    "              f\"{failed_condition_2.shape[0]} rows failed Condition_2.\")\n",
    "    else:\n",
    "        print(\"Data integrity check was successful! All rows pass the integrity conditions.\")\n",
    "        \n",
    "    return data\n",
    "\n",
    "processed_data = load_and_check()"
   ]
  },
  {
   "cell_type": "markdown",
   "id": "2e6bcb9a-b311-4f63-a653-b5e8629c451b",
   "metadata": {},
   "source": [
    "## Corrected Code"
   ]
  },
  {
   "cell_type": "code",
   "execution_count": 2,
   "id": "12eab6b8-cd12-4a9b-8847-d0d621e99aa0",
   "metadata": {},
   "outputs": [
    {
     "name": "stdout",
     "output_type": "stream",
     "text": [
      "Data loaded successfully\n",
      "\n",
      "Data integrity check was successfull! All rows pass the integrity condition\n"
     ]
    }
   ],
   "source": [
    "def load_and_check():\n",
    "    \n",
    "    # Step 1: Load the data and check if it has the expected shape\n",
    "    data = pd.read_csv('sales.csv')\n",
    "    expected_columns = 17\n",
    "    actual_columns = data.shape[1]\n",
    "    if actual_columns != expected_columns:\n",
    "        print(f\"Data column mismatch! Expedted {expected_columns}, but got {actual_columns}.\\n\")\n",
    "        print(f\"Columns found: {list(data.columns)}\\n\")\n",
    "    else:\n",
    "        print('Data loaded successfully\\n')\n",
    "\n",
    "    # Step 2: Calculate statistical values and merge with the original data\n",
    "    grouped_data = data.groupby(['Date'])['Total'].agg(['mean', 'std'])\n",
    "    grouped_data['threshold'] = 3 * grouped_data['std']\n",
    "    grouped_data['max'] = grouped_data['mean'] + grouped_data.threshold\n",
    "    grouped_data['min'] = grouped_data[['mean', 'threshold']].apply(lambda row: max(0, row['mean'] - row['threshold']), axis=1)\n",
    "    data = pd.merge(data, grouped_data, on='Date', how='left')\n",
    "\n",
    "\n",
    "    # Condition_1 checks if 'Total' is within the acceptable range (min to max) for each date\n",
    "    data['Condition_1'] = (data['Total'] >= data['min']) & (data['Total'] <= data['max'])\n",
    "    data.fillna({'Condition_1': False}, inplace=True)\n",
    "\n",
    "    # Condition_2 checks if the 'Tax' column is properly calculated as 5% of (Quantity * Unit price)\n",
    "    data['Condition_2'] = round(data['Quantity'] * data['Unit price'] * 0.05, 1) == round(data['Tax'], 1)\n",
    "\n",
    "    # Step 3: Check if all rows pass both Condition_1 and Condition_2\n",
    "    # Success indicates data integrity; failure suggests potential issues.\n",
    "    failed_condition_1 = data[~data['Condition_1']]\n",
    "    failed_condition_2 = data[~data['Condition_2']]\n",
    "\n",
    "    if failed_condition_1.shape[0] < 0 or failed_condition_2.shape[0] < 0:\n",
    "        print(f\"Data integrity check failed! {failed_condition_1.shape[0]} rows failed Condition_1, \"\n",
    "              f\"{failed_condition_2.shape[0]} rows failed Condition_2.\")\n",
    "    else:\n",
    "        print('Data integrity check was successfull! All rows pass the integrity condition')\n",
    "\n",
    "    return data\n",
    "\n",
    "processed_data = load_and_check()"
   ]
  },
  {
   "cell_type": "code",
   "execution_count": null,
   "id": "cb4e2d3a-0aa5-4583-afc7-b9061067aef5",
   "metadata": {},
   "outputs": [],
   "source": []
  }
 ],
 "metadata": {
  "kernelspec": {
   "display_name": "Python 3 (ipykernel)",
   "language": "python",
   "name": "python3"
  },
  "language_info": {
   "codemirror_mode": {
    "name": "ipython",
    "version": 3
   },
   "file_extension": ".py",
   "mimetype": "text/x-python",
   "name": "python",
   "nbconvert_exporter": "python",
   "pygments_lexer": "ipython3",
   "version": "3.9.13"
  }
 },
 "nbformat": 4,
 "nbformat_minor": 5
}
